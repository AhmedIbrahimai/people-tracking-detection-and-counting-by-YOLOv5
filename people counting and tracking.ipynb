{
 "cells": [
  {
   "cell_type": "code",
   "execution_count": 2,
   "id": "8a2d674c",
   "metadata": {},
   "outputs": [],
   "source": [
    "import os \n",
    "os.chdir(r\"C:\\Users\\amb\\Downloads\\peopleCounting\\yolov5peoplecounterwin11\")"
   ]
  },
  {
   "cell_type": "code",
   "execution_count": null,
   "id": "78454dd7",
   "metadata": {},
   "outputs": [
    {
     "name": "stderr",
     "output_type": "stream",
     "text": [
      "Using cache found in C:\\Users\\amb/.cache\\torch\\hub\\ultralytics_yolov5_master\n",
      "YOLOv5  2022-12-10 Python-3.8.15 torch-1.13.1 CPU\n",
      "\n",
      "Fusing layers... \n",
      "YOLOv5s summary: 213 layers, 7225885 parameters, 0 gradients\n",
      "Adding AutoShape... \n"
     ]
    }
   ],
   "source": [
    "import cv2\n",
    "import torch\n",
    "from tracker import *\n",
    "import numpy as np\n",
    "model = torch.hub.load('ultralytics/yolov5', 'yolov5s', pretrained=True)\n",
    "\n",
    "cap=cv2.VideoCapture('cctv.mp4')\n",
    "\n",
    "\n",
    "def POINTS(event, x, y, flags, param):\n",
    "    if event == cv2.EVENT_MOUSEMOVE :  \n",
    "        colorsBGR = [x, y]\n",
    "        print(colorsBGR)\n",
    "        \n",
    "\n",
    "cv2.namedWindow('FRAME')\n",
    "#cv2.setMouseCallback('FRAME', POINTS)\n",
    "\n",
    "tracker = Tracker()\n",
    "area = [(377,315),(429,373),(535,339),(500,296)]\n",
    "c = set()\n",
    "while True:\n",
    "    ret,frame=cap.read()\n",
    "    frame=cv2.resize(frame,(1020,500))\n",
    "    cv2.polylines(frame,[np.array(area,np.int32)],True,(0,255,0),2)\n",
    "    results = model(frame)\n",
    "    #frame = np.squeeze(results.render())\n",
    "    points = []\n",
    "    for index , row in results.pandas().xyxy[0].iterrows():\n",
    "        x1 = int(row['xmin'])\n",
    "        y1 = int(row['ymin'])\n",
    "        x2 = int(row['xmax'])\n",
    "        y2 = int(row['ymax'])\n",
    "        n=(row['name'])\n",
    "        if 'person' in n:\n",
    "            points.append([x1,y1,x2,y2]) \n",
    "            #cv2.rectangle(frame,(x1,y1),(x2,y2),(255,0,255),2)\n",
    "            #cv2.putText(frame,str(n),(x1,y1),cv2.FONT_HERSHEY_PLAIN,2,(255,0,0),2)\n",
    "    boxes_id = tracker.update(points) \n",
    "    #print(boxes_id)\n",
    "    for box_id in boxes_id:\n",
    "        x , y , w , h , idd = box_id\n",
    "        cv2.rectangle(frame,(x,y),(w,h),(255,0,255),2)\n",
    "        cv2.putText(frame,str(idd),(x,y),cv2.FONT_HERSHEY_PLAIN,3,(255,0,0),2)\n",
    "        results = cv2.pointPolygonTest(np.array(area,np.int32),(w,h),False)\n",
    "        #print(results)\n",
    "        if results>= 0 :\n",
    "            c.add(idd)\n",
    "    #print(c) \n",
    "    a = len(c)\n",
    "    cv2.putText(frame,'number of people is ='+str(a),(50,65),cv2.FONT_HERSHEY_PLAIN,3,(0,0,255),2)\n",
    "    \n",
    "    cv2.imshow('FRAME',frame)\n",
    "    if cv2.waitKey(1)&0xFF==27:\n",
    "        break\n",
    "cap.release()\n",
    "cv2.destroyAllWindows()\n",
    "    \n",
    "    \n"
   ]
  },
  {
   "cell_type": "code",
   "execution_count": null,
   "id": "bc9bf0ef",
   "metadata": {},
   "outputs": [],
   "source": []
  }
 ],
 "metadata": {
  "kernelspec": {
   "display_name": "Python 3 (ipykernel)",
   "language": "python",
   "name": "python3"
  },
  "language_info": {
   "codemirror_mode": {
    "name": "ipython",
    "version": 3
   },
   "file_extension": ".py",
   "mimetype": "text/x-python",
   "name": "python",
   "nbconvert_exporter": "python",
   "pygments_lexer": "ipython3",
   "version": "3.8.15"
  }
 },
 "nbformat": 4,
 "nbformat_minor": 5
}
